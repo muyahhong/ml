{
 "cells": [
  {
   "cell_type": "markdown",
   "id": "08d929be",
   "metadata": {},
   "source": [
    "### sklearn.ensemble.GradientBoostingClassifier\n",
    "_class_ sklearn.ensemble.GradientBoostingClassifier(_*_,  _loss='log_loss'_,  _learning_rate=0.1_,  _n_estimators=100_,  _subsample=1.0_,  _criterion='friedman_mse'_,  _min_samples_split=2_,  _min_samples_leaf=1_,  _min_weight_fraction_leaf=0.0_,  _max_depth=3_,  _min_impurity_decrease=0.0_,  _init=None_,  _random_state=None_,  _max_features=None_,  _verbose=0_,  _max_leaf_nodes=None_,  _warm_start=False_,  _validation_fraction=0.1_,  _n_iter_no_change=None_,  _tol=0.0001_,  _ccp_alpha=0.0_)[[source]](https://github.com/scikit-learn/scikit-learn/blob/7db5b6a98/sklearn/ensemble/_gb.py#L851)[](https://scikit-learn.org/stable/modules/generated/sklearn.ensemble.GradientBoostingClassifier.html#sklearn.ensemble.GradientBoostingClassifier \"Permalink to this definition\")"
   ]
  },
  {
   "cell_type": "code",
   "execution_count": 4,
   "id": "7dba4dfd",
   "metadata": {},
   "outputs": [],
   "source": [
    "import pandas as pd\n",
    "\n",
    "def get_new_feature_name_df(old_feature_name_df):\n",
    "    feature_dup_df = pd.DataFrame(data=old_feature_name_df.groupby('column_name').cumcount(),\n",
    "                                 columns=['dup_cnt'])\n",
    "    feature_dup_df = feature_dup_df.reset_index()\n",
    "    new_feature_name_df = pd.merge(old_feature_name_df.reset_index(), feature_dup_df, how='outer')\n",
    "    new_feature_name_df['column_name'] = new_feature_name_df[['column_name', 'dup_cnt']].apply(lambda x: x[0]+'_'+str(x[1])\n",
    "                                                                                              if x[1] > 0 else x[0], axis=1)\n",
    "    new_feature_name_df = new_feature_name_df.drop(['index'], axis=1)\n",
    "    return new_feature_name_df\n",
    "\n",
    "def get_human_dataset():\n",
    "    feature_name_df = pd.read_csv('./datasets/human_activity/features.txt', sep='\\s+', header=None, names=['column_index', 'column_name'])\n",
    "    new_feature_name_df = get_new_feature_name_df(feature_name_df)\n",
    "    feature_name = new_feature_name_df.iloc[:, 1].values.tolist()\n",
    "    x_train = pd.read_csv('./datasets/human_activity/train/X_train.txt', sep='\\s+', names=feature_name)\n",
    "    x_test = pd.read_csv('./datasets/human_activity/test/X_test.txt', sep='\\s+', names=feature_name)\n",
    "    \n",
    "    y_train = pd.read_csv('./datasets/human_activity/train/y_train.txt', sep='\\s+', header=None, names=['action'])\n",
    "    y_test = pd.read_csv('./datasets/human_activity/test/y_test.txt', sep='\\s+', header=None, names=['action'])\n",
    "    \n",
    "    return x_train, x_test, y_train, y_test\n",
    "\n",
    "x_train, x_test, y_train, y_test = get_human_dataset()"
   ]
  },
  {
   "cell_type": "code",
   "execution_count": 6,
   "id": "da62c4ca",
   "metadata": {},
   "outputs": [
    {
     "name": "stdout",
     "output_type": "stream",
     "text": [
      "GBM 정확도: 0.9389\n",
      "GBM 수행 시간: 1113.7\n"
     ]
    }
   ],
   "source": [
    "from sklearn.ensemble import GradientBoostingClassifier\n",
    "from sklearn.metrics import accuracy_score\n",
    "import time\n",
    "import warnings\n",
    "warnings.filterwarnings('ignore')\n",
    "\n",
    "# GBM 수행 시간 측정을 위함. 시작 시간 설정.\n",
    "start_time = time.time()\n",
    "\n",
    "gb_clf = GradientBoostingClassifier(random_state=0)\n",
    "gb_clf.fit(x_train, y_train)\n",
    "gb_pred = gb_clf.predict(x_test)\n",
    "accuracy = accuracy_score(y_test, gb_pred)\n",
    "\n",
    "print('GBM 정확도:', round(accuracy, 4))\n",
    "print('GBM 수행 시간:', round(time.time() - start_time, 1))"
   ]
  },
  {
   "cell_type": "code",
   "execution_count": null,
   "id": "35238f7d",
   "metadata": {},
   "outputs": [],
   "source": [
    "from sklearn.ensemble import GradientBoostingClassifier\n",
    "import time\n",
    "import warnings\n",
    "warnings.filterwarnings('ignore')\n",
    "\n",
    "# GBM 수행 시간 측정을 위함. 시작 시간 설정.\n",
    "start_time = time.time()\n",
    "\n",
    "gb_clf = GradientBoostingClassifier(random_state=0)\n",
    "gb_clf.fit(x_train, y_train)\n",
    "gb_pred = gb_clf.predict(x_test)\n",
    "accuracy = accuracy_score(y_test, gb_pred)\n",
    "\n",
    "print('GBM 정확도:', round(accuracy, 4))\n",
    "print('GBM 수행 시간:', round(time.time() - start_time, 1))"
   ]
  }
 ],
 "metadata": {
  "kernelspec": {
   "display_name": "Python 3 (ipykernel)",
   "language": "python",
   "name": "python3"
  },
  "language_info": {
   "codemirror_mode": {
    "name": "ipython",
    "version": 3
   },
   "file_extension": ".py",
   "mimetype": "text/x-python",
   "name": "python",
   "nbconvert_exporter": "python",
   "pygments_lexer": "ipython3",
   "version": "3.11.1"
  }
 },
 "nbformat": 4,
 "nbformat_minor": 5
}
