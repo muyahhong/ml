{
 "cells": [
  {
   "cell_type": "markdown",
   "id": "da4d49ed",
   "metadata": {},
   "source": [
    "### 1. sklearn.tree.DecisionTreeClassifier\n",
    "\n",
    "_class_ sklearn.tree.DecisionTreeClassifier(_*_,  _criterion='gini'_,  _splitter='best'_,  _max_depth=None_,  _min_samples_split=2_,  _min_samples_leaf=1_,  _min_weight_fraction_leaf=0.0_,  _max_features=None_,  _random_state=None_,  _max_leaf_nodes=None_,  _min_impurity_decrease=0.0_,  _class_weight=None_,  _ccp_alpha=0.0_)[[source]](https://github.com/scikit-learn/scikit-learn/blob/7db5b6a98/sklearn/tree/_classes.py#L595)[](https://scikit-learn.org/stable/modules/generated/sklearn.tree.DecisionTreeClassifier.html#sklearn.tree.DecisionTreeClassifier \"Permalink to this definition\")\n",
    "\n",
    "### 2. Parameters\n",
    "**criterion**{“gini”, “entropy”, “log_loss”}, default=”gini”\n",
    "\n",
    "The function to measure the quality of a split. Supported criteria are “gini” for the Gini impurity and “log_loss” and “entropy” both for the Shannon information gain, see  [Mathematical formulation](https://scikit-learn.org/stable/modules/tree.html#tree-mathematical-formulation).\n",
    "\n",
    "**splitter**{“best”, “random”}, default=”best”\n",
    "\n",
    "The strategy used to choose the split at each node. Supported strategies are “best” to choose the best split and “random” to choose the best random split.\n",
    "\n",
    "**max_depth**int, default=None\n",
    "\n",
    "The maximum depth of the tree. If None, then nodes are expanded until all leaves are pure or until all leaves contain less than min_samples_split samples.\n",
    "\n",
    "**min_samples_split**int or float, default=2\n",
    "\n",
    "The minimum number of samples required to split an internal node:\n",
    "\n",
    "-   If int, then consider  `min_samples_split`  as the minimum number.\n",
    "    \n",
    "-   If float, then  `min_samples_split`  is a fraction and  `ceil(min_samples_split  *  n_samples)`  are the minimum number of samples for each split.\n",
    "\n",
    "### 3. Attributes\n",
    "**classes_**ndarray of shape (n_classes,) or list of ndarray\n",
    "\n",
    "The classes labels (single output problem), or a list of arrays of class labels (multi-output problem).\n",
    "\n",
    "[`feature_importances_`](https://scikit-learn.org/stable/modules/generated/sklearn.tree.DecisionTreeClassifier.html#sklearn.tree.DecisionTreeClassifier.feature_importances_ \"sklearn.tree.DecisionTreeClassifier.feature_importances_\")ndarray of shape (n_features,)\n",
    "\n",
    "Return the feature importances."
   ]
  },
  {
   "cell_type": "code",
   "execution_count": 1,
   "id": "25a93345",
   "metadata": {},
   "outputs": [],
   "source": [
    "# max_depth = 3\n",
    "# 평가 => accaracy"
   ]
  },
  {
   "cell_type": "code",
   "execution_count": 27,
   "id": "e5ebc54b",
   "metadata": {},
   "outputs": [
    {
     "data": {
      "text/plain": [
       "Index(['sepal length (cm)', 'sepal width (cm)', 'petal length (cm)',\n",
       "       'petal width (cm)'],\n",
       "      dtype='object')"
      ]
     },
     "execution_count": 27,
     "metadata": {},
     "output_type": "execute_result"
    }
   ],
   "source": [
    "from sklearn.tree import DecisionTreeClassifier\n",
    "from sklearn.datasets import load_iris\n",
    "from sklearn.model_selection import train_test_split\n",
    "from sklearn.metrics import accuracy_score\n",
    "import pandas as pd\n",
    "\n",
    "# DecisionTreeClassifier 생성\n",
    "df_clf = DecisionTreeClassifier(random_state=156)\n",
    "\n",
    "# 붓꽃 데이터 로딩, 학습과 테스트 데이터 셋으로 분리\n",
    "\n",
    "iris = load_iris()\n",
    "x = iris.data\n",
    "y = iris.target\n",
    "iris_df = pd.DataFrame(x, columns=iris.feature_names)\n",
    "\n",
    "\n",
    "x_train, x_test, y_train, y_test = train_test_split(iris_df, y, test_size=0.2, random_state=10)\n",
    "\n",
    "\n",
    "\n",
    "# DecisionTreeClassifier 학습\n",
    "df_clf.fit(x_train, y_train)\n",
    "pred = df_clf.predict(x_test)\n",
    "\n",
    "accuracy = accuracy_score(y_test, pred)\n",
    "accuracy\n",
    "pred\n",
    "x_train.columns\n"
   ]
  },
  {
   "cell_type": "code",
   "execution_count": 26,
   "id": "3137c968",
   "metadata": {},
   "outputs": [
    {
     "data": {
      "text/plain": [
       "array([1, 2, 0, 1, 0, 1, 2, 1, 0, 1, 1, 2, 1, 0, 0, 2, 1, 0, 0, 0, 2, 2,\n",
       "       2, 0, 1, 0, 1, 1, 2, 2])"
      ]
     },
     "execution_count": 26,
     "metadata": {},
     "output_type": "execute_result"
    }
   ],
   "source": [
    "df_clf_1 = DecisionTreeClassifier(max_depth=5)\n",
    "df_clf_1.fit(x_train, y_train)\n",
    "pred_1 = df_clf_1.predict(x_test)\n",
    "accuracy_1 = accuracy_score(y_test, pred_1)\n",
    "accuracy_1\n",
    "pred_1"
   ]
  },
  {
   "cell_type": "code",
   "execution_count": 17,
   "id": "b3687eb2",
   "metadata": {},
   "outputs": [
    {
     "data": {
      "text/plain": [
       "array([0.01252348, 0.01669798, 0.90897639, 0.06180215])"
      ]
     },
     "execution_count": 17,
     "metadata": {},
     "output_type": "execute_result"
    }
   ],
   "source": [
    "df_clf.feature_importances_"
   ]
  },
  {
   "cell_type": "code",
   "execution_count": 24,
   "id": "7fbb98ad",
   "metadata": {},
   "outputs": [
    {
     "data": {
      "text/plain": [
       "array([0.        , 0.02632138, 0.92441221, 0.04926642])"
      ]
     },
     "execution_count": 24,
     "metadata": {},
     "output_type": "execute_result"
    }
   ],
   "source": [
    "df_clf_1.feature_importances_"
   ]
  },
  {
   "cell_type": "code",
   "execution_count": 4,
   "id": "b0f72182",
   "metadata": {},
   "outputs": [
    {
     "data": {
      "text/plain": [
       "array(['sepal length (cm)', 'sepal width (cm)', 'petal length (cm)',\n",
       "       'petal width (cm)'], dtype=object)"
      ]
     },
     "execution_count": 4,
     "metadata": {},
     "output_type": "execute_result"
    }
   ],
   "source": [
    "df_clf.feature_names_in_"
   ]
  },
  {
   "cell_type": "markdown",
   "id": "4bcc8819",
   "metadata": {},
   "source": [
    "### 2. export_graphviz\n",
    "\n",
    "sklearn.tree.export_graphviz(_decision_tree_,  _out_file=None_,  _*_,  _max_depth=None_,  _feature_names=None_,  _class_names=None_,  _label='all'_,  _filled=False_,  _leaves_parallel=False_,  _impurity=True_,  _node_ids=False_,  _proportion=False_,  _rotate=False_,  _rounded=False_,  _special_characters=False_,  _precision=3_,  _fontname='helvetica'_)[[source]](https://github.com/scikit-learn/scikit-learn/blob/7db5b6a98/sklearn/tree/_export.py#L740)[](https://scikit-learn.org/stable/modules/generated/sklearn.tree.export_graphviz.html#sklearn.tree.export_graphviz \"Permalink to this definition\")"
   ]
  },
  {
   "cell_type": "code",
   "execution_count": 5,
   "id": "acd8082f",
   "metadata": {},
   "outputs": [],
   "source": [
    "from sklearn.tree import export_graphviz\n",
    "\n",
    "# export_graohviz() 호출결과로 out_file로 지정된 tree.dot파일 생성\n",
    "export_graphviz(df_clf,out_file=\"tree.dot\",class_names=iris.target_names,\n",
    "               feature_names=iris.feature_names,impurity=True,filled=True)"
   ]
  },
  {
   "cell_type": "code",
   "execution_count": 6,
   "id": "f3439aab",
   "metadata": {},
   "outputs": [],
   "source": [
    "import graphviz"
   ]
  },
  {
   "cell_type": "code",
   "execution_count": 11,
   "id": "a6f3b786",
   "metadata": {},
   "outputs": [],
   "source": [
    "with open('tree.dot') as f:\n",
    "    dot_graph = f.read()\n",
    "graph = graphviz.Source(dot_graph)"
   ]
  },
  {
   "cell_type": "code",
   "execution_count": 13,
   "id": "9c903eb1",
   "metadata": {},
   "outputs": [
    {
     "data": {
      "text/plain": [
       "'의사결정나무_img.png'"
      ]
     },
     "execution_count": 13,
     "metadata": {},
     "output_type": "execute_result"
    }
   ],
   "source": [
    "graph.render(filename='의사결정나무_img', directory='./', format='png')"
   ]
  },
  {
   "cell_type": "code",
   "execution_count": null,
   "id": "3668cfcd",
   "metadata": {},
   "outputs": [],
   "source": []
  }
 ],
 "metadata": {
  "kernelspec": {
   "display_name": "Python 3 (ipykernel)",
   "language": "python",
   "name": "python3"
  },
  "language_info": {
   "codemirror_mode": {
    "name": "ipython",
    "version": 3
   },
   "file_extension": ".py",
   "mimetype": "text/x-python",
   "name": "python",
   "nbconvert_exporter": "python",
   "pygments_lexer": "ipython3",
   "version": "3.11.1"
  }
 },
 "nbformat": 4,
 "nbformat_minor": 5
}
