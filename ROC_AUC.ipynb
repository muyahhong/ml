{
 "cells": [
  {
   "cell_type": "markdown",
   "id": "965a4212",
   "metadata": {},
   "source": [
    "### sklearn.metrics.roc_curve\n",
    "sklearn.metrics.roc_curve(_y_true_,  _y_score_,  _*_,  _pos_label=None_,  _sample_weight=None_,  _drop_intermediate=True_)[[source]](https://github.com/scikit-learn/scikit-learn/blob/f3f51f9b6/sklearn/metrics/_ranking.py#L892)[](https://scikit-learn.org/1.1/modules/generated/sklearn.metrics.roc_curve.html?highlight=roc+curve#sklearn.metrics.roc_curve \"Permalink to this definition\")\n",
    "\n",
    "Returns:\n",
    "\n",
    "**fpr**\n",
    "ndarray of shape (>2,)\n",
    "\n",
    "Increasing false positive rates such that element i is the false positive rate of predictions with score >=  `thresholds[i]`.\n",
    "\n",
    "**tpr**\n",
    "ndarray of shape (>2,)\n",
    "\n",
    "Increasing true positive rates such that element  `i`  is the true positive rate of predictions with score >=  `thresholds[i]`.\n",
    "\n",
    "**thresholds**\n",
    "ndarray of shape = (n_thresholds,)\n",
    "\n",
    "Decreasing thresholds on the decision function used to compute fpr and tpr.  `thresholds[0]`  represents no instances being predicted and is arbitrarily set to  `max(y_score)  +  1`."
   ]
  },
  {
   "cell_type": "code",
   "execution_count": 53,
   "id": "bbf8d4d2",
   "metadata": {},
   "outputs": [],
   "source": [
    "from sklearn.metrics import accuracy_score, precision_score, recall_score,confusion_matrix, f1_score\n",
    "from sklearn.linear_model import LogisticRegression\n",
    "import pandas as pd\n",
    "import numpy as np\n",
    "\n",
    "from sklearn.preprocessing import LabelEncoder\n",
    "\n",
    "def fillna(df):\n",
    "    df[\"Age\"].fillna(df[\"Age\"].mean(), inplace=True)\n",
    "    df[\"Cabin\"].fillna(\"N\", inplace=True)\n",
    "    df[\"Embarked\"].fillna(\"N\", inplace=True)\n",
    "    df[\"Fare\"].fillna(0, inplace=True)\n",
    "    return df\n",
    "\n",
    "def drop_features(df):\n",
    "    df.drop(['PassengerId','Name','Fare','Ticket','SibSp','Parch'], axis=1, inplace=True)\n",
    "    return df\n",
    "\n",
    "def format_features(df):\n",
    "    df['Cabin'] = df['Cabin'].str[:1]\n",
    "    features = ['Cabin', 'Sex', 'Embarked']\n",
    "    for feature in features:\n",
    "        le = LabelEncoder()\n",
    "#         df[feature] = le.fit_transform(df[feature])\n",
    "        le = le.fit(df[feature])\n",
    "        df[feature] = le.transform(df[feature])\n",
    "    return df\n",
    "\n",
    "# 앞에서 설정한 Data Preprocessing 함수 호출\n",
    "def transform_features(df):\n",
    "    df = fillna(df)\n",
    "    df = drop_features(df)\n",
    "    df = format_features(df)\n",
    "    return df\n",
    "\n",
    "def get_clf_eval(y_test,pred):\n",
    "    confusion = confusion_matrix(y_test,dpred)\n",
    "    accuracy = accuracy_score(y_test,dpred)\n",
    "    precision = precision_score(y_test,dpred)\n",
    "    recall = recall_score(y_test,dpred)\n",
    "    # f1 스코어 추가\n",
    "    f1 = f1_score(y_test, dpred)\n",
    "    print('오차 행렬')\n",
    "    print(confusion)\n",
    "    print(f'정확도: {np.round(accuracy,4)},정밀도{np.round(precision,4)}, 재현율{np.round(recall,4)}, F1{np.round(f1, 4)}')"
   ]
  },
  {
   "cell_type": "code",
   "execution_count": 54,
   "id": "c8ebbda9",
   "metadata": {},
   "outputs": [],
   "source": [
    "y_test = pd.read_csv('./datasets/gender_submission.csv')\n",
    "y_test = y_test['Survived']\n",
    "\n",
    "train_df = pd.read_csv('./datasets/titanic_train.csv')\n",
    "test_df = pd.read_csv('./datasets/titanic_test.csv')\n",
    "train_df = transform_features(train_df)\n",
    "test_df = transform_features(test_df)\n",
    "\n",
    "label = train_df['Survived']\n",
    "features = train_df.drop(columns='Survived')\n",
    "x_train = features\n",
    "y_train = label"
   ]
  },
  {
   "cell_type": "code",
   "execution_count": 55,
   "id": "8f09305d",
   "metadata": {},
   "outputs": [],
   "source": [
    "lr_clf = LogisticRegression()\n",
    "lr_clf.fit(x_train, y_train)\n",
    "lr_pred = lr_clf.predict(test_df)\n",
    "pred_proda = lr_clf.predict_proba(test_df)"
   ]
  },
  {
   "cell_type": "code",
   "execution_count": 56,
   "id": "7847e229",
   "metadata": {},
   "outputs": [
    {
     "name": "stdout",
     "output_type": "stream",
     "text": [
      "[[0.90004657 0.09995343]\n",
      " [0.56777228 0.43222772]\n",
      " [0.89778678 0.10221322]\n",
      " [0.89259509 0.10740491]\n",
      " [0.36447892 0.63552108]]\n",
      "[0 0 0 0 1]\n"
     ]
    }
   ],
   "source": [
    "lr_clf = LogisticRegression()\n",
    "\n",
    "lr_clf.fit(x_train, y_train)\n",
    "lr_pred = lr_clf.predict(test_df)\n",
    "\n",
    "pred_proba = lr_clf.predict_proba(test_df)\n",
    "print(pred_proba[:5])\n",
    "print(lr_pred[:5])"
   ]
  },
  {
   "cell_type": "code",
   "execution_count": 59,
   "id": "f7bad9bf",
   "metadata": {},
   "outputs": [
    {
     "name": "stdout",
     "output_type": "stream",
     "text": [
      "샘플 index로 추출한 임계값: [0.97 0.88 0.83 0.77 0.66 0.63 0.61 0.59 0.57 0.54 0.51 0.41 0.27 0.25\n",
      " 0.22 0.16 0.14 0.13 0.11 0.1  0.1  0.08] \n",
      "\n",
      "fpr: [0.   0.   0.   0.   0.01 0.01 0.02 0.03 0.05 0.06 0.08 0.14 0.27 0.33\n",
      " 0.39 0.47 0.55 0.65 0.75 0.8  0.92 0.96] \n",
      "\n",
      "tpr: [0.01 0.25 0.41 0.54 0.64 0.72 0.84 0.87 0.88 0.96 0.99 1.   1.   1.\n",
      " 1.   1.   1.   1.   1.   1.   1.   1.  ]\n"
     ]
    },
    {
     "data": {
      "image/png": "[encoded data removed]",
      "text/plain": [
       "<Figure size 640x480 with 1 Axes>"
      ]
     },
     "metadata": {},
     "output_type": "display_data"
    },
    {
     "name": "stdout",
     "output_type": "stream",
     "text": [
      "Roc Auc score 0.9888\n"
     ]
    }
   ],
   "source": [
    "from sklearn.metrics import roc_curve\n",
    "import matplotlib.pyplot as plt\n",
    "\n",
    "pred_proba_class1 = lr.predict_proba(x_test)[:,1]\n",
    "\n",
    "fprs, tprs, thresholds = roc_curve(y_test,pred_proba_class1)\n",
    "# 반환된 임계값 배열에서 샘플로 데이터를 추출하되, 임계값을 5step으로 추출.\n",
    "# threshold[0]은 max(예측확률)+1로 임의 설정됨. 이를 제외하기 위해 np.arange는 1부터 시작\n",
    "\n",
    "thr_index = np.arange(1,thresholds.shape[0],5)\n",
    "print('샘플 index로 추출한 임계값:', np.round(thresholds[thr_index],2),\"\\n\")\n",
    "\n",
    "## 임계값에 따른 fpr.tpr\n",
    "print('fpr:',np.round(fprs[thr_index],2),\"\\n\")\n",
    "print('tpr:',np.round(tprs[thr_index],2))\n",
    "\n",
    "\n",
    "def roc_curve_plot(y_test,pred_proba_c1):\n",
    "    fprs, tprs, thresholds = roc_curve(y_test,pred_proba_c1)\n",
    "    \n",
    "    # Roc curve를 plot 곡선으로 기름\n",
    "    plt.plot(fprs,tprs,label='ROC')\n",
    "    ## 가운데 대각선 직선을 그림\n",
    "    plt.plot([0,1],[0,1],\"k--\",label=\"ramdom\")\n",
    "    \n",
    "    ## fpr x축을 scale을 0.1단위로 변경 x,y축 명 설정\n",
    "    start,end = plt.xlim()\n",
    "    plt.xticks(np.round(np.arange(start,end,0.1),2))\n",
    "    plt.xlim(0,1)\n",
    "    plt.ylim(0,1)\n",
    "    plt.xlabel('FPR(1-sensitivity)')\n",
    "    plt.ylabel('TPR(recall)')\n",
    "    plt.legend()\n",
    "    plt.show()\n",
    "\n",
    "roc_curve_plot(y_test,pred_proba_class1)\n",
    "\n",
    "from sklearn.metrics import roc_auc_score\n",
    "pred_proba = lr.predict_proba(x_test)\n",
    "roc_score_prob = roc_auc_score(y_test,pred_proba[:,1])\n",
    "print(f'Roc Auc score {np.round(roc_score_prob,4)}')"
   ]
  },
  {
   "cell_type": "code",
   "execution_count": 58,
   "id": "574d63fa",
   "metadata": {},
   "outputs": [
    {
     "name": "stdout",
     "output_type": "stream",
     "text": [
      "샘플 index로 추출한 임계값: [0.97 0.88 0.83 0.77 0.66 0.63 0.61 0.59 0.57 0.54 0.51 0.41 0.27 0.25\n",
      " 0.22 0.16 0.14 0.13 0.11 0.1  0.1  0.08] \n",
      "\n",
      "fpr: [0.   0.   0.   0.   0.01 0.01 0.02 0.03 0.05 0.06 0.08 0.14 0.27 0.33\n",
      " 0.39 0.47 0.55 0.65 0.75 0.8  0.92 0.96] \n",
      "\n",
      "tpr: [0.01 0.25 0.41 0.54 0.64 0.72 0.84 0.87 0.88 0.96 0.99 1.   1.   1.\n",
      " 1.   1.   1.   1.   1.   1.   1.   1.  ]\n"
     ]
    },
    {
     "data": {
      "image/png": "[encoded data removed]",
      "text/plain": [
       "<Figure size 640x480 with 1 Axes>"
      ]
     },
     "metadata": {},
     "output_type": "display_data"
    },
    {
     "name": "stdout",
     "output_type": "stream",
     "text": [
      "Roc Auc score 0.9888\n"
     ]
    }
   ],
   "source": [
    "import pandas as pd\n",
    "from sklearn.preprocessing import LabelEncoder\n",
    "from sklearn.linear_model import LogisticRegression\n",
    "\n",
    "train_df = pd.read_csv(\"./datasets/titanic_train.csv\")\n",
    "test_df = pd.read_csv(\"./datasets/titanic_test.csv\")\n",
    "y_test = pd.read_csv('./datasets/gender_submission.csv')\n",
    "y_test = y_test['Survived']\n",
    "\n",
    "\n",
    "# Null 처리 함수\n",
    "def fillna(df):\n",
    "    df['Age'].fillna(df['Age'].mean(), inplace=True)\n",
    "    df['Cabin'].fillna('N', inplace=True)\n",
    "    df['Embarked'].fillna('N', inplace=True)\n",
    "    df['Fare'].fillna(0, inplace=True)\n",
    "    return df\n",
    "\n",
    "#머신러닝 알고리즘에 불필요한 속성 제거\n",
    "def drop_features(df):\n",
    "    df.drop(['PassengerId', 'Name', 'SibSp', 'Parch', 'Ticket', 'Fare'], axis=1, inplace=True)\n",
    "    return df\n",
    "\n",
    "# 레이블 인코딩 수행\n",
    "def format_features(df):\n",
    "    df['Cabin'] = df['Cabin'].str[:1]\n",
    "    features = ['Cabin', 'Sex', 'Embarked']\n",
    "    for feature in features:\n",
    "        le = LabelEncoder()\n",
    "        le = le.fit(df[feature])\n",
    "        df[feature] = le.transform(df[feature])\n",
    "    return df\n",
    "\n",
    "# 앞에서 설정한 Data Preprocessing 함수 호출\n",
    "def transform_features(df):\n",
    "    df = fillna(df)\n",
    "    df = drop_features(df)\n",
    "    df = format_features(df)\n",
    "    return df\n",
    "\n",
    "train_df = transform_features(train_df)\n",
    "test_df = transform_features(test_df)\n",
    "\n",
    "# label,feature\n",
    "x_train = train_df.drop(\"Survived\",axis=1)\n",
    "y_train = train_df['Survived']\n",
    "x_test = test_df\n",
    "\n",
    "## logistic regression\n",
    "lr = LogisticRegression()\n",
    "lr.fit(x_train,y_train)\n",
    "pred = lr.predict(x_test)\n",
    "pred_proba = lr.predict_proba(x_test)\n",
    "\n",
    "from sklearn.metrics import roc_curve\n",
    "import matplotlib.pyplot as plt\n",
    "\n",
    "# 레이블 값이 1일때의 예측 확률을 추출\n",
    "pred_proba_class1 = lr.predict_proba(x_test)[:,1]\n",
    "\n",
    "fprs, tprs, thresholds = roc_curve(y_test,pred_proba_class1)\n",
    "# 반환된 임계값 배열에서 샘플로 데이터를 추출하되, 임계값을 5step으로 추출.\n",
    "# threshold[0]은 max(예측확률)+1로 임의 설정됨. 이를 제외하기 위해 np.arange는 1부터 시작\n",
    "\n",
    "thr_index = np.arange(1,thresholds.shape[0],5)\n",
    "print('샘플 index로 추출한 임계값:', np.round(thresholds[thr_index],2),\"\\n\")\n",
    "\n",
    "## 임계값에 따른 fpr.tpr\n",
    "print('fpr:',np.round(fprs[thr_index],2),\"\\n\")\n",
    "print('tpr:',np.round(tprs[thr_index],2))\n",
    "\n",
    "\n",
    "def roc_curve_plot(y_test,pred_proba_c1):\n",
    "    fprs, tprs, thresholds = roc_curve(y_test,pred_proba_c1)\n",
    "    \n",
    "    # Roc curve를 plot 곡선으로 기름\n",
    "    plt.plot(fprs,tprs,label='ROC')\n",
    "    ## 가운데 대각선 직선을 그림\n",
    "    plt.plot([0,1],[0,1],\"k--\",label=\"ramdom\")\n",
    "    \n",
    "    ## fpr x축을 scale을 0.1단위로 변경 x,y축 명 설정\n",
    "    start,end = plt.xlim()\n",
    "    plt.xticks(np.round(np.arange(start,end,0.1),2))\n",
    "    plt.xlim(0,1)\n",
    "    plt.ylim(0,1)\n",
    "    plt.xlabel('FPR(1-sensitivity)')\n",
    "    plt.ylabel('TPR(recall)')\n",
    "    plt.legend()\n",
    "    plt.show()\n",
    "\n",
    "roc_curve_plot(y_test,pred_proba_class1)\n",
    "\n",
    "from sklearn.metrics import roc_auc_score\n",
    "pred_proba = lr.predict_proba(x_test)\n",
    "roc_score_prob = roc_auc_score(y_test,pred_proba[:,1])\n",
    "print(f'Roc Auc score {np.round(roc_score_prob,4)}')"
   ]
  },
  {
   "cell_type": "code",
   "execution_count": null,
   "id": "ba2a3968",
   "metadata": {},
   "outputs": [],
   "source": []
  }
 ],
 "metadata": {
  "kernelspec": {
   "display_name": "Python 3 (ipykernel)",
   "language": "python",
   "name": "python3"
  },
  "language_info": {
   "codemirror_mode": {
    "name": "ipython",
    "version": 3
   },
   "file_extension": ".py",
   "mimetype": "text/x-python",
   "name": "python",
   "nbconvert_exporter": "python",
   "pygments_lexer": "ipython3",
   "version": "3.11.1"
  }
 },
 "nbformat": 4,
 "nbformat_minor": 5
}
